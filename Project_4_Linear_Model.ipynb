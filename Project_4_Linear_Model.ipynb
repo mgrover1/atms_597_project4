{
  "nbformat": 4,
  "nbformat_minor": 0,
  "metadata": {
    "colab": {
      "name": "Project_4_Linear_Model.ipynb",
      "provenance": [],
      "collapsed_sections": [],
      "include_colab_link": true
    },
    "kernelspec": {
      "name": "python3",
      "display_name": "Python 3"
    }
  },
  "cells": [
    {
      "cell_type": "markdown",
      "metadata": {
        "id": "view-in-github",
        "colab_type": "text"
      },
      "source": [
        "<a href=\"https://colab.research.google.com/github/rmiller34/atms_597_project4/blob/master/Project_4_Linear_Model.ipynb\" target=\"_parent\"><img src=\"https://colab.research.google.com/assets/colab-badge.svg\" alt=\"Open In Colab\"/></a>"
      ]
    },
    {
      "cell_type": "markdown",
      "metadata": {
        "id": "vTZn8PHnW19q",
        "colab_type": "text"
      },
      "source": [
        "##Linear Model"
      ]
    },
    {
      "cell_type": "markdown",
      "metadata": {
        "id": "YiB1YRpVWwg7",
        "colab_type": "text"
      },
      "source": [
        "Import packages"
      ]
    },
    {
      "cell_type": "code",
      "metadata": {
        "id": "rTiLaBiMzKcV",
        "colab_type": "code",
        "outputId": "5325f68c-0fa8-4e6d-f435-b861bcdb0b73",
        "colab": {
          "base_uri": "https://localhost:8080/",
          "height": 71
        }
      },
      "source": [
        "\n",
        "%matplotlib inline\n",
        "import matplotlib.pyplot as plt\n",
        "import seaborn as sns; sns.set()\n",
        "import numpy as np\n",
        "import pandas as pd\n",
        "from sklearn.metrics import mean_squared_error\n",
        "from math import sqrt"
      ],
      "execution_count": 0,
      "outputs": [
        {
          "output_type": "stream",
          "text": [
            "/usr/local/lib/python3.6/dist-packages/statsmodels/tools/_testing.py:19: FutureWarning: pandas.util.testing is deprecated. Use the functions in the public API at pandas.testing instead.\n",
            "  import pandas.util.testing as tm\n"
          ],
          "name": "stderr"
        }
      ]
    },
    {
      "cell_type": "markdown",
      "metadata": {
        "id": "jIk_Yfbyx6vF",
        "colab_type": "text"
      },
      "source": [
        "Pull in files from data processing and mount drive"
      ]
    },
    {
      "cell_type": "code",
      "metadata": {
        "id": "4AhAeUZTzdEb",
        "colab_type": "code",
        "outputId": "2bad8502-e1d5-4d35-abfe-af668b31036d",
        "colab": {
          "base_uri": "https://localhost:8080/",
          "height": 122
        }
      },
      "source": [
        "from google.colab import drive\n",
        "drive.mount('/content/drive')"
      ],
      "execution_count": 0,
      "outputs": [
        {
          "output_type": "stream",
          "text": [
            "Go to this URL in a browser: https://accounts.google.com/o/oauth2/auth?client_id=947318989803-6bn6qk8qdgf4n4g3pfee6491hc0brc4i.apps.googleusercontent.com&redirect_uri=urn%3aietf%3awg%3aoauth%3a2.0%3aoob&response_type=code&scope=email%20https%3a%2f%2fwww.googleapis.com%2fauth%2fdocs.test%20https%3a%2f%2fwww.googleapis.com%2fauth%2fdrive%20https%3a%2f%2fwww.googleapis.com%2fauth%2fdrive.photos.readonly%20https%3a%2f%2fwww.googleapis.com%2fauth%2fpeopleapi.readonly\n",
            "\n",
            "Enter your authorization code:\n",
            "··········\n",
            "Mounted at /content/drive\n"
          ],
          "name": "stdout"
        }
      ]
    },
    {
      "cell_type": "code",
      "metadata": {
        "id": "2Z9EYyTjzPb5",
        "colab_type": "code",
        "colab": {}
      },
      "source": [
        "# The following files just have shortened columns, variables have been changed into metric, footers removed\n",
        "GFS = pd.read_csv('drive/My Drive/ATMS_597_Project_4/GFS_Daily_Tidy.csv', index_col = 'Date', usecols = ['Date', 'TMAX', 'TMIN', 'WMAX', 'RTOT'], parse_dates = True)\n",
        "\n",
        "hr_obs = pd.read_csv('drive/My Drive/ATMS_597_Project_4/CMI_Hourly_Tidy.csv', index_col = 'Timestamp', parse_dates = True)\n",
        "hr_obs.index = hr_obs.index + pd.DateOffset(hours=12)  \n",
        "\n",
        "daily_obs = pd.read_csv('drive/My Drive/ATMS_597_Project_4/CMI_Daily_Tidy.csv', index_col = 'Date', parse_dates = True)\n",
        "daily_obs.index = daily_obs.index + pd.DateOffset(hours=12)  \n",
        "\n"
      ],
      "execution_count": 0,
      "outputs": []
    },
    {
      "cell_type": "code",
      "metadata": {
        "id": "5nyQQ51XzmOU",
        "colab_type": "code",
        "colab": {}
      },
      "source": [
        "# Merge and drop all days with missing values \n",
        "Merge_File = pd.merge(daily_obs.reset_index(), GFS.reset_index(), on = 'Date', how = 'inner')\n",
        "Merge_File = pd.merge(Merge_File, hr_obs.reset_index(), left_on = 'Date', right_on = 'Timestamp', how = 'inner').drop(columns = 'Timestamp')\n",
        "\n",
        "Merge_File.dropna(inplace = True)  # Remove Nans"
      ],
      "execution_count": 0,
      "outputs": []
    },
    {
      "cell_type": "code",
      "metadata": {
        "id": "KEAbbFBT0T39",
        "colab_type": "code",
        "outputId": "cf8f1b8d-69f9-450f-e5a9-0e3f86535725",
        "colab": {
          "base_uri": "https://localhost:8080/",
          "height": 830
        }
      },
      "source": [
        "Merge_File #Check the file"
      ],
      "execution_count": 0,
      "outputs": [
        {
          "output_type": "execute_result",
          "data": {
            "text/html": [
              "<div>\n",
              "<style scoped>\n",
              "    .dataframe tbody tr th:only-of-type {\n",
              "        vertical-align: middle;\n",
              "    }\n",
              "\n",
              "    .dataframe tbody tr th {\n",
              "        vertical-align: top;\n",
              "    }\n",
              "\n",
              "    .dataframe thead th {\n",
              "        text-align: right;\n",
              "    }\n",
              "</style>\n",
              "<table border=\"1\" class=\"dataframe\">\n",
              "  <thead>\n",
              "    <tr style=\"text-align: right;\">\n",
              "      <th></th>\n",
              "      <th>Date</th>\n",
              "      <th>Max Hourly Temp (C)</th>\n",
              "      <th>Min Hourly Temp (C)</th>\n",
              "      <th>Max Wind Speed (m/s)</th>\n",
              "      <th>Daily Precip (mm)</th>\n",
              "      <th>TMAX</th>\n",
              "      <th>TMIN</th>\n",
              "      <th>WMAX</th>\n",
              "      <th>RTOT</th>\n",
              "      <th>tmpc</th>\n",
              "      <th>dwpc</th>\n",
              "      <th>mslp</th>\n",
              "      <th>wdir</th>\n",
              "      <th>wspd</th>\n",
              "      <th>skct</th>\n",
              "      <th>pr1h</th>\n",
              "    </tr>\n",
              "  </thead>\n",
              "  <tbody>\n",
              "    <tr>\n",
              "      <th>0</th>\n",
              "      <td>2010-01-01 12:00:00</td>\n",
              "      <td>-11.111111</td>\n",
              "      <td>-16.666667</td>\n",
              "      <td>6.70560</td>\n",
              "      <td>0.0</td>\n",
              "      <td>-11.26</td>\n",
              "      <td>-16.46</td>\n",
              "      <td>7.323933</td>\n",
              "      <td>0.05</td>\n",
              "      <td>-1.975000</td>\n",
              "      <td>-4.183333</td>\n",
              "      <td>1018.208333</td>\n",
              "      <td>279.166667</td>\n",
              "      <td>6.183333</td>\n",
              "      <td>6.000000</td>\n",
              "      <td>0.000</td>\n",
              "    </tr>\n",
              "    <tr>\n",
              "      <th>1</th>\n",
              "      <td>2010-01-02 12:00:00</td>\n",
              "      <td>-14.444444</td>\n",
              "      <td>-20.555556</td>\n",
              "      <td>6.70560</td>\n",
              "      <td>0.0</td>\n",
              "      <td>-10.16</td>\n",
              "      <td>-15.96</td>\n",
              "      <td>4.687217</td>\n",
              "      <td>0.00</td>\n",
              "      <td>-13.325000</td>\n",
              "      <td>-16.933333</td>\n",
              "      <td>1029.316667</td>\n",
              "      <td>286.666667</td>\n",
              "      <td>5.591667</td>\n",
              "      <td>2.250000</td>\n",
              "      <td>0.000</td>\n",
              "    </tr>\n",
              "    <tr>\n",
              "      <th>2</th>\n",
              "      <td>2010-01-03 12:00:00</td>\n",
              "      <td>-12.222222</td>\n",
              "      <td>-21.111111</td>\n",
              "      <td>4.91744</td>\n",
              "      <td>0.0</td>\n",
              "      <td>-9.96</td>\n",
              "      <td>-14.36</td>\n",
              "      <td>5.941380</td>\n",
              "      <td>0.06</td>\n",
              "      <td>-16.525000</td>\n",
              "      <td>-19.816667</td>\n",
              "      <td>1032.991667</td>\n",
              "      <td>296.666667</td>\n",
              "      <td>4.633333</td>\n",
              "      <td>0.000000</td>\n",
              "      <td>0.000</td>\n",
              "    </tr>\n",
              "    <tr>\n",
              "      <th>3</th>\n",
              "      <td>2010-01-04 12:00:00</td>\n",
              "      <td>-11.666667</td>\n",
              "      <td>-18.888889</td>\n",
              "      <td>8.94080</td>\n",
              "      <td>0.0</td>\n",
              "      <td>-8.46</td>\n",
              "      <td>-12.86</td>\n",
              "      <td>5.685068</td>\n",
              "      <td>0.17</td>\n",
              "      <td>-15.325000</td>\n",
              "      <td>-19.858333</td>\n",
              "      <td>1032.250000</td>\n",
              "      <td>305.833333</td>\n",
              "      <td>3.641667</td>\n",
              "      <td>0.000000</td>\n",
              "      <td>0.000</td>\n",
              "    </tr>\n",
              "    <tr>\n",
              "      <th>4</th>\n",
              "      <td>2010-01-05 12:00:00</td>\n",
              "      <td>-12.222222</td>\n",
              "      <td>-18.333333</td>\n",
              "      <td>7.15264</td>\n",
              "      <td>0.0</td>\n",
              "      <td>-7.16</td>\n",
              "      <td>-11.06</td>\n",
              "      <td>3.794733</td>\n",
              "      <td>0.77</td>\n",
              "      <td>-14.441667</td>\n",
              "      <td>-17.700000</td>\n",
              "      <td>1028.141667</td>\n",
              "      <td>290.833333</td>\n",
              "      <td>6.300000</td>\n",
              "      <td>1.333333</td>\n",
              "      <td>0.000</td>\n",
              "    </tr>\n",
              "    <tr>\n",
              "      <th>...</th>\n",
              "      <td>...</td>\n",
              "      <td>...</td>\n",
              "      <td>...</td>\n",
              "      <td>...</td>\n",
              "      <td>...</td>\n",
              "      <td>...</td>\n",
              "      <td>...</td>\n",
              "      <td>...</td>\n",
              "      <td>...</td>\n",
              "      <td>...</td>\n",
              "      <td>...</td>\n",
              "      <td>...</td>\n",
              "      <td>...</td>\n",
              "      <td>...</td>\n",
              "      <td>...</td>\n",
              "      <td>...</td>\n",
              "    </tr>\n",
              "    <tr>\n",
              "      <th>3608</th>\n",
              "      <td>2019-12-26 12:00:00</td>\n",
              "      <td>16.666667</td>\n",
              "      <td>7.777778</td>\n",
              "      <td>8.04672</td>\n",
              "      <td>0.0</td>\n",
              "      <td>11.84</td>\n",
              "      <td>3.84</td>\n",
              "      <td>4.301163</td>\n",
              "      <td>0.00</td>\n",
              "      <td>10.600000</td>\n",
              "      <td>6.075000</td>\n",
              "      <td>1014.266667</td>\n",
              "      <td>185.000000</td>\n",
              "      <td>5.758333</td>\n",
              "      <td>0.000000</td>\n",
              "      <td>0.000</td>\n",
              "    </tr>\n",
              "    <tr>\n",
              "      <th>3609</th>\n",
              "      <td>2019-12-27 12:00:00</td>\n",
              "      <td>6.111111</td>\n",
              "      <td>0.000000</td>\n",
              "      <td>6.70560</td>\n",
              "      <td>0.0</td>\n",
              "      <td>13.94</td>\n",
              "      <td>3.54</td>\n",
              "      <td>8.819297</td>\n",
              "      <td>2.73</td>\n",
              "      <td>13.466667</td>\n",
              "      <td>11.141667</td>\n",
              "      <td>1016.258333</td>\n",
              "      <td>200.833333</td>\n",
              "      <td>6.125000</td>\n",
              "      <td>1.090909</td>\n",
              "      <td>0.000</td>\n",
              "    </tr>\n",
              "    <tr>\n",
              "      <th>3610</th>\n",
              "      <td>2019-12-28 12:00:00</td>\n",
              "      <td>13.333333</td>\n",
              "      <td>0.000000</td>\n",
              "      <td>10.28192</td>\n",
              "      <td>0.0</td>\n",
              "      <td>15.94</td>\n",
              "      <td>9.34</td>\n",
              "      <td>9.701546</td>\n",
              "      <td>11.58</td>\n",
              "      <td>2.816667</td>\n",
              "      <td>0.725000</td>\n",
              "      <td>1025.341667</td>\n",
              "      <td>242.500000</td>\n",
              "      <td>2.775000</td>\n",
              "      <td>0.666667</td>\n",
              "      <td>0.000</td>\n",
              "    </tr>\n",
              "    <tr>\n",
              "      <th>3611</th>\n",
              "      <td>2019-12-29 12:00:00</td>\n",
              "      <td>15.000000</td>\n",
              "      <td>5.000000</td>\n",
              "      <td>10.28192</td>\n",
              "      <td>6.1</td>\n",
              "      <td>7.24</td>\n",
              "      <td>-1.66</td>\n",
              "      <td>11.111256</td>\n",
              "      <td>2.57</td>\n",
              "      <td>7.141667</td>\n",
              "      <td>6.866667</td>\n",
              "      <td>1018.491667</td>\n",
              "      <td>105.833333</td>\n",
              "      <td>5.975000</td>\n",
              "      <td>9.000000</td>\n",
              "      <td>0.000</td>\n",
              "    </tr>\n",
              "    <tr>\n",
              "      <th>3612</th>\n",
              "      <td>2019-12-30 12:00:00</td>\n",
              "      <td>3.333333</td>\n",
              "      <td>-0.555556</td>\n",
              "      <td>11.62304</td>\n",
              "      <td>1.0</td>\n",
              "      <td>-0.36</td>\n",
              "      <td>-2.26</td>\n",
              "      <td>8.769265</td>\n",
              "      <td>0.04</td>\n",
              "      <td>12.266667</td>\n",
              "      <td>11.400000</td>\n",
              "      <td>1003.950000</td>\n",
              "      <td>181.666667</td>\n",
              "      <td>5.658333</td>\n",
              "      <td>1.000000</td>\n",
              "      <td>0.025</td>\n",
              "    </tr>\n",
              "  </tbody>\n",
              "</table>\n",
              "<p>3250 rows × 16 columns</p>\n",
              "</div>"
            ],
            "text/plain": [
              "                    Date  Max Hourly Temp (C)  ...      skct   pr1h\n",
              "0    2010-01-01 12:00:00           -11.111111  ...  6.000000  0.000\n",
              "1    2010-01-02 12:00:00           -14.444444  ...  2.250000  0.000\n",
              "2    2010-01-03 12:00:00           -12.222222  ...  0.000000  0.000\n",
              "3    2010-01-04 12:00:00           -11.666667  ...  0.000000  0.000\n",
              "4    2010-01-05 12:00:00           -12.222222  ...  1.333333  0.000\n",
              "...                  ...                  ...  ...       ...    ...\n",
              "3608 2019-12-26 12:00:00            16.666667  ...  0.000000  0.000\n",
              "3609 2019-12-27 12:00:00             6.111111  ...  1.090909  0.000\n",
              "3610 2019-12-28 12:00:00            13.333333  ...  0.666667  0.000\n",
              "3611 2019-12-29 12:00:00            15.000000  ...  9.000000  0.000\n",
              "3612 2019-12-30 12:00:00             3.333333  ...  1.000000  0.025\n",
              "\n",
              "[3250 rows x 16 columns]"
            ]
          },
          "metadata": {
            "tags": []
          },
          "execution_count": 6
        }
      ]
    },
    {
      "cell_type": "code",
      "metadata": {
        "id": "F8UQ8h5W0xWQ",
        "colab_type": "code",
        "colab": {}
      },
      "source": [
        "Merge_File['day'] = Merge_File['Date'].dt.day\n",
        "Merge_File['month'] = Merge_File['Date'].dt.month\n",
        "Merge_File['year'] = Merge_File['Date'].dt.year"
      ],
      "execution_count": 0,
      "outputs": []
    },
    {
      "cell_type": "code",
      "metadata": {
        "id": "IJJDFkvI3B8E",
        "colab_type": "code",
        "outputId": "2fa0fbbe-f82a-4e76-c9e9-b5d5176d2f43",
        "colab": {
          "base_uri": "https://localhost:8080/",
          "height": 830
        }
      },
      "source": [
        "#Pull out the variables that are needed\n",
        "Condense_file = Merge_File.drop(columns =['Date', 'Max Hourly Temp (C)', 'Min Hourly Temp (C)', 'Max Wind Speed (m/s)', 'Daily Precip (mm)'], axis = 1)\n",
        "New_condensed_date_file = Merge_File.drop(columns = ['Max Hourly Temp (C)', 'Min Hourly Temp (C)', 'Max Wind Speed (m/s)', 'Daily Precip (mm)'], axis = 1)\n",
        "Condense_file_list = list(Condense_file.columns)\n",
        "Merge_File\n"
      ],
      "execution_count": 0,
      "outputs": [
        {
          "output_type": "execute_result",
          "data": {
            "text/html": [
              "<div>\n",
              "<style scoped>\n",
              "    .dataframe tbody tr th:only-of-type {\n",
              "        vertical-align: middle;\n",
              "    }\n",
              "\n",
              "    .dataframe tbody tr th {\n",
              "        vertical-align: top;\n",
              "    }\n",
              "\n",
              "    .dataframe thead th {\n",
              "        text-align: right;\n",
              "    }\n",
              "</style>\n",
              "<table border=\"1\" class=\"dataframe\">\n",
              "  <thead>\n",
              "    <tr style=\"text-align: right;\">\n",
              "      <th></th>\n",
              "      <th>Date</th>\n",
              "      <th>Max Hourly Temp (C)</th>\n",
              "      <th>Min Hourly Temp (C)</th>\n",
              "      <th>Max Wind Speed (m/s)</th>\n",
              "      <th>Daily Precip (mm)</th>\n",
              "      <th>TMAX</th>\n",
              "      <th>TMIN</th>\n",
              "      <th>WMAX</th>\n",
              "      <th>RTOT</th>\n",
              "      <th>tmpc</th>\n",
              "      <th>dwpc</th>\n",
              "      <th>mslp</th>\n",
              "      <th>wdir</th>\n",
              "      <th>wspd</th>\n",
              "      <th>skct</th>\n",
              "      <th>pr1h</th>\n",
              "      <th>day</th>\n",
              "      <th>month</th>\n",
              "      <th>year</th>\n",
              "    </tr>\n",
              "  </thead>\n",
              "  <tbody>\n",
              "    <tr>\n",
              "      <th>0</th>\n",
              "      <td>2010-01-01 12:00:00</td>\n",
              "      <td>-11.111111</td>\n",
              "      <td>-16.666667</td>\n",
              "      <td>6.70560</td>\n",
              "      <td>0.0</td>\n",
              "      <td>-11.26</td>\n",
              "      <td>-16.46</td>\n",
              "      <td>7.323933</td>\n",
              "      <td>0.05</td>\n",
              "      <td>-1.975000</td>\n",
              "      <td>-4.183333</td>\n",
              "      <td>1018.208333</td>\n",
              "      <td>279.166667</td>\n",
              "      <td>6.183333</td>\n",
              "      <td>6.000000</td>\n",
              "      <td>0.000</td>\n",
              "      <td>1</td>\n",
              "      <td>1</td>\n",
              "      <td>2010</td>\n",
              "    </tr>\n",
              "    <tr>\n",
              "      <th>1</th>\n",
              "      <td>2010-01-02 12:00:00</td>\n",
              "      <td>-14.444444</td>\n",
              "      <td>-20.555556</td>\n",
              "      <td>6.70560</td>\n",
              "      <td>0.0</td>\n",
              "      <td>-10.16</td>\n",
              "      <td>-15.96</td>\n",
              "      <td>4.687217</td>\n",
              "      <td>0.00</td>\n",
              "      <td>-13.325000</td>\n",
              "      <td>-16.933333</td>\n",
              "      <td>1029.316667</td>\n",
              "      <td>286.666667</td>\n",
              "      <td>5.591667</td>\n",
              "      <td>2.250000</td>\n",
              "      <td>0.000</td>\n",
              "      <td>2</td>\n",
              "      <td>1</td>\n",
              "      <td>2010</td>\n",
              "    </tr>\n",
              "    <tr>\n",
              "      <th>2</th>\n",
              "      <td>2010-01-03 12:00:00</td>\n",
              "      <td>-12.222222</td>\n",
              "      <td>-21.111111</td>\n",
              "      <td>4.91744</td>\n",
              "      <td>0.0</td>\n",
              "      <td>-9.96</td>\n",
              "      <td>-14.36</td>\n",
              "      <td>5.941380</td>\n",
              "      <td>0.06</td>\n",
              "      <td>-16.525000</td>\n",
              "      <td>-19.816667</td>\n",
              "      <td>1032.991667</td>\n",
              "      <td>296.666667</td>\n",
              "      <td>4.633333</td>\n",
              "      <td>0.000000</td>\n",
              "      <td>0.000</td>\n",
              "      <td>3</td>\n",
              "      <td>1</td>\n",
              "      <td>2010</td>\n",
              "    </tr>\n",
              "    <tr>\n",
              "      <th>3</th>\n",
              "      <td>2010-01-04 12:00:00</td>\n",
              "      <td>-11.666667</td>\n",
              "      <td>-18.888889</td>\n",
              "      <td>8.94080</td>\n",
              "      <td>0.0</td>\n",
              "      <td>-8.46</td>\n",
              "      <td>-12.86</td>\n",
              "      <td>5.685068</td>\n",
              "      <td>0.17</td>\n",
              "      <td>-15.325000</td>\n",
              "      <td>-19.858333</td>\n",
              "      <td>1032.250000</td>\n",
              "      <td>305.833333</td>\n",
              "      <td>3.641667</td>\n",
              "      <td>0.000000</td>\n",
              "      <td>0.000</td>\n",
              "      <td>4</td>\n",
              "      <td>1</td>\n",
              "      <td>2010</td>\n",
              "    </tr>\n",
              "    <tr>\n",
              "      <th>4</th>\n",
              "      <td>2010-01-05 12:00:00</td>\n",
              "      <td>-12.222222</td>\n",
              "      <td>-18.333333</td>\n",
              "      <td>7.15264</td>\n",
              "      <td>0.0</td>\n",
              "      <td>-7.16</td>\n",
              "      <td>-11.06</td>\n",
              "      <td>3.794733</td>\n",
              "      <td>0.77</td>\n",
              "      <td>-14.441667</td>\n",
              "      <td>-17.700000</td>\n",
              "      <td>1028.141667</td>\n",
              "      <td>290.833333</td>\n",
              "      <td>6.300000</td>\n",
              "      <td>1.333333</td>\n",
              "      <td>0.000</td>\n",
              "      <td>5</td>\n",
              "      <td>1</td>\n",
              "      <td>2010</td>\n",
              "    </tr>\n",
              "    <tr>\n",
              "      <th>...</th>\n",
              "      <td>...</td>\n",
              "      <td>...</td>\n",
              "      <td>...</td>\n",
              "      <td>...</td>\n",
              "      <td>...</td>\n",
              "      <td>...</td>\n",
              "      <td>...</td>\n",
              "      <td>...</td>\n",
              "      <td>...</td>\n",
              "      <td>...</td>\n",
              "      <td>...</td>\n",
              "      <td>...</td>\n",
              "      <td>...</td>\n",
              "      <td>...</td>\n",
              "      <td>...</td>\n",
              "      <td>...</td>\n",
              "      <td>...</td>\n",
              "      <td>...</td>\n",
              "      <td>...</td>\n",
              "    </tr>\n",
              "    <tr>\n",
              "      <th>3608</th>\n",
              "      <td>2019-12-26 12:00:00</td>\n",
              "      <td>16.666667</td>\n",
              "      <td>7.777778</td>\n",
              "      <td>8.04672</td>\n",
              "      <td>0.0</td>\n",
              "      <td>11.84</td>\n",
              "      <td>3.84</td>\n",
              "      <td>4.301163</td>\n",
              "      <td>0.00</td>\n",
              "      <td>10.600000</td>\n",
              "      <td>6.075000</td>\n",
              "      <td>1014.266667</td>\n",
              "      <td>185.000000</td>\n",
              "      <td>5.758333</td>\n",
              "      <td>0.000000</td>\n",
              "      <td>0.000</td>\n",
              "      <td>26</td>\n",
              "      <td>12</td>\n",
              "      <td>2019</td>\n",
              "    </tr>\n",
              "    <tr>\n",
              "      <th>3609</th>\n",
              "      <td>2019-12-27 12:00:00</td>\n",
              "      <td>6.111111</td>\n",
              "      <td>0.000000</td>\n",
              "      <td>6.70560</td>\n",
              "      <td>0.0</td>\n",
              "      <td>13.94</td>\n",
              "      <td>3.54</td>\n",
              "      <td>8.819297</td>\n",
              "      <td>2.73</td>\n",
              "      <td>13.466667</td>\n",
              "      <td>11.141667</td>\n",
              "      <td>1016.258333</td>\n",
              "      <td>200.833333</td>\n",
              "      <td>6.125000</td>\n",
              "      <td>1.090909</td>\n",
              "      <td>0.000</td>\n",
              "      <td>27</td>\n",
              "      <td>12</td>\n",
              "      <td>2019</td>\n",
              "    </tr>\n",
              "    <tr>\n",
              "      <th>3610</th>\n",
              "      <td>2019-12-28 12:00:00</td>\n",
              "      <td>13.333333</td>\n",
              "      <td>0.000000</td>\n",
              "      <td>10.28192</td>\n",
              "      <td>0.0</td>\n",
              "      <td>15.94</td>\n",
              "      <td>9.34</td>\n",
              "      <td>9.701546</td>\n",
              "      <td>11.58</td>\n",
              "      <td>2.816667</td>\n",
              "      <td>0.725000</td>\n",
              "      <td>1025.341667</td>\n",
              "      <td>242.500000</td>\n",
              "      <td>2.775000</td>\n",
              "      <td>0.666667</td>\n",
              "      <td>0.000</td>\n",
              "      <td>28</td>\n",
              "      <td>12</td>\n",
              "      <td>2019</td>\n",
              "    </tr>\n",
              "    <tr>\n",
              "      <th>3611</th>\n",
              "      <td>2019-12-29 12:00:00</td>\n",
              "      <td>15.000000</td>\n",
              "      <td>5.000000</td>\n",
              "      <td>10.28192</td>\n",
              "      <td>6.1</td>\n",
              "      <td>7.24</td>\n",
              "      <td>-1.66</td>\n",
              "      <td>11.111256</td>\n",
              "      <td>2.57</td>\n",
              "      <td>7.141667</td>\n",
              "      <td>6.866667</td>\n",
              "      <td>1018.491667</td>\n",
              "      <td>105.833333</td>\n",
              "      <td>5.975000</td>\n",
              "      <td>9.000000</td>\n",
              "      <td>0.000</td>\n",
              "      <td>29</td>\n",
              "      <td>12</td>\n",
              "      <td>2019</td>\n",
              "    </tr>\n",
              "    <tr>\n",
              "      <th>3612</th>\n",
              "      <td>2019-12-30 12:00:00</td>\n",
              "      <td>3.333333</td>\n",
              "      <td>-0.555556</td>\n",
              "      <td>11.62304</td>\n",
              "      <td>1.0</td>\n",
              "      <td>-0.36</td>\n",
              "      <td>-2.26</td>\n",
              "      <td>8.769265</td>\n",
              "      <td>0.04</td>\n",
              "      <td>12.266667</td>\n",
              "      <td>11.400000</td>\n",
              "      <td>1003.950000</td>\n",
              "      <td>181.666667</td>\n",
              "      <td>5.658333</td>\n",
              "      <td>1.000000</td>\n",
              "      <td>0.025</td>\n",
              "      <td>30</td>\n",
              "      <td>12</td>\n",
              "      <td>2019</td>\n",
              "    </tr>\n",
              "  </tbody>\n",
              "</table>\n",
              "<p>3250 rows × 19 columns</p>\n",
              "</div>"
            ],
            "text/plain": [
              "                    Date  Max Hourly Temp (C)  ...  month  year\n",
              "0    2010-01-01 12:00:00           -11.111111  ...      1  2010\n",
              "1    2010-01-02 12:00:00           -14.444444  ...      1  2010\n",
              "2    2010-01-03 12:00:00           -12.222222  ...      1  2010\n",
              "3    2010-01-04 12:00:00           -11.666667  ...      1  2010\n",
              "4    2010-01-05 12:00:00           -12.222222  ...      1  2010\n",
              "...                  ...                  ...  ...    ...   ...\n",
              "3608 2019-12-26 12:00:00            16.666667  ...     12  2019\n",
              "3609 2019-12-27 12:00:00             6.111111  ...     12  2019\n",
              "3610 2019-12-28 12:00:00            13.333333  ...     12  2019\n",
              "3611 2019-12-29 12:00:00            15.000000  ...     12  2019\n",
              "3612 2019-12-30 12:00:00             3.333333  ...     12  2019\n",
              "\n",
              "[3250 rows x 19 columns]"
            ]
          },
          "metadata": {
            "tags": []
          },
          "execution_count": 8
        }
      ]
    },
    {
      "cell_type": "markdown",
      "metadata": {
        "id": "PYkmrrbqXY3O",
        "colab_type": "text"
      },
      "source": [
        "Linear Regression for TMAX"
      ]
    },
    {
      "cell_type": "code",
      "metadata": {
        "id": "1mefEYSE3WEk",
        "colab_type": "code",
        "colab": {}
      },
      "source": [
        "#Linear Regression for TMAX\n",
        "testing_dates = np.array(New_condensed_date_file.query('year == 2019')['Date'])\n",
        "training_verification = np.array(Merge_File.query('year < 2019')['Max Hourly Temp (C)'])\n",
        "testing_verification = np.array(Merge_File.query('year == 2019')['Max Hourly Temp (C)'])\n"
      ],
      "execution_count": 0,
      "outputs": []
    },
    {
      "cell_type": "markdown",
      "metadata": {
        "id": "3YSmdMApXbpn",
        "colab_type": "text"
      },
      "source": [
        "Import sklearn and set up the model for the TMAX regression"
      ]
    },
    {
      "cell_type": "code",
      "metadata": {
        "id": "jYdJXWK63tfd",
        "colab_type": "code",
        "outputId": "43cd0224-b117-440a-c6cd-180db5a60751",
        "colab": {
          "base_uri": "https://localhost:8080/",
          "height": 34
        }
      },
      "source": [
        "# Import and set up the model\n",
        "from sklearn.linear_model import LinearRegression\n",
        "lrmax = LinearRegression(fit_intercept=True)\n",
        "\n",
        "column_names = ['TMAX','TMIN','tmpc'] # Columns for regression\n",
        "train_vars = Condense_file.query('year < 2019')[column_names] #  training\n",
        "test_vars = Condense_file.query('year == 2019')[column_names] #  testing\n",
        "\n",
        "lrmax.fit(train_vars, training_verification) # Fit the model"
      ],
      "execution_count": 0,
      "outputs": [
        {
          "output_type": "execute_result",
          "data": {
            "text/plain": [
              "LinearRegression(copy_X=True, fit_intercept=True, n_jobs=None, normalize=False)"
            ]
          },
          "metadata": {
            "tags": []
          },
          "execution_count": 24
        }
      ]
    },
    {
      "cell_type": "code",
      "metadata": {
        "id": "J37Q1iXd7_1P",
        "colab_type": "code",
        "outputId": "5c79ea31-572a-4763-98d2-f55388647521",
        "colab": {
          "base_uri": "https://localhost:8080/",
          "height": 85
        }
      },
      "source": [
        "Predict=lrmax.predict(test_vars) # runs model to get predict for the test period\n",
        "\n",
        "#print the root mean square error, model slope, and model intercept\n",
        "#checks the GFS \n",
        "print('Baseline Root Mean Square Error:', round(sqrt(mean_squared_error(testing_verification, Condense_file.query('year == 2019')['TMAX'].values)), 2), 'degrees C.')\n",
        "print('Root Mean Square Error:', round(sqrt(mean_squared_error(testing_verification, Predict)), 2), 'degrees C.')\n",
        "print(\"Model slope:    \", lrmax.coef_[0])\n",
        "print(\"Model intercept:\", lrmax.intercept_)"
      ],
      "execution_count": 0,
      "outputs": [
        {
          "output_type": "stream",
          "text": [
            "Baseline Root Mean Square Error: 4.52 degrees C.\n",
            "Root Mean Square Error: 3.24 degrees C.\n",
            "Model slope:     0.35495200307720737\n",
            "Model intercept: 3.9941626236939953\n"
          ],
          "name": "stdout"
        }
      ]
    },
    {
      "cell_type": "markdown",
      "metadata": {
        "id": "1mUy1B7wXxgR",
        "colab_type": "text"
      },
      "source": [
        "Above print out for TMAX:\n",
        " \n",
        "Baseline Root Mean Square Error: 4.52 degrees C.\n",
        "Root Mean Square Error: 3.24 degrees C.\n",
        "Model slope:     0.35495200307720737\n",
        "Model intercept: 3.9941626236939953"
      ]
    },
    {
      "cell_type": "markdown",
      "metadata": {
        "id": "TkCJnLqQX118",
        "colab_type": "text"
      },
      "source": [
        "Linear Regression for TMIN"
      ]
    },
    {
      "cell_type": "code",
      "metadata": {
        "id": "On1HylLV9o2z",
        "colab_type": "code",
        "colab": {}
      },
      "source": [
        "#TMAX\n",
        "# The following will overrite the above regressions\n",
        "testing_dates = np.array(New_condensed_date_file.query('year == 2019')['Date'])\n",
        "training_verification = np.array(Merge_File.query('year < 2019')['Min Hourly Temp (C)'])\n",
        "testing_verification = np.array(Merge_File.query('year == 2019')['Min Hourly Temp (C)'])\n"
      ],
      "execution_count": 0,
      "outputs": []
    },
    {
      "cell_type": "code",
      "metadata": {
        "id": "y-Vx661qUFhz",
        "colab_type": "code",
        "outputId": "3aac6879-c5cc-4442-884a-d9eab6ba122b",
        "colab": {
          "base_uri": "https://localhost:8080/",
          "height": 34
        }
      },
      "source": [
        "lrmin = LinearRegression(fit_intercept=True)\n",
        "\n",
        "column_names = ['TMAX','TMIN','tmpc'] # Choose the columns \n",
        "train_vars = Condense_file.query('year < 2019')[column_names] #  training\n",
        "test_vars = Condense_file.query('year == 2019')[column_names] #  testing\n",
        "\n",
        "\n",
        "lrmin.fit(train_vars, training_verification) # Fit the model"
      ],
      "execution_count": 0,
      "outputs": [
        {
          "output_type": "execute_result",
          "data": {
            "text/plain": [
              "LinearRegression(copy_X=True, fit_intercept=True, n_jobs=None, normalize=False)"
            ]
          },
          "metadata": {
            "tags": []
          },
          "execution_count": 32
        }
      ]
    },
    {
      "cell_type": "code",
      "metadata": {
        "id": "IU36KIJsVH69",
        "colab_type": "code",
        "outputId": "d7529564-6143-4b99-a094-6239deb66e7b",
        "colab": {
          "base_uri": "https://localhost:8080/",
          "height": 85
        }
      },
      "source": [
        "Predict=lrmin.predict(test_vars) # runs model to get predict for the test period\n",
        "\n",
        "#print the root mean square error, model slope, and model intercept\n",
        "#checks the GFS forecast \n",
        "print('Baseline Root Mean Square Error:', round(sqrt(mean_squared_error(testing_verification, Condense_file.query('year == 2019')['TMIN'].values)), 2), 'degrees C.')\n",
        "print('Root Mean Square Error:', round(sqrt(mean_squared_error(testing_verification, Predict)), 2), 'degrees C.')\n",
        "print(\"Model slope:    \", lrmin.coef_[0])\n",
        "print(\"Model intercept:\", lrmin.intercept_)"
      ],
      "execution_count": 0,
      "outputs": [
        {
          "output_type": "stream",
          "text": [
            "Baseline Root Mean Square Error: 4.25 degrees C.\n",
            "Root Mean Square Error: 3.1 degrees C.\n",
            "Model slope:     -0.00885765197046887\n",
            "Model intercept: -3.5722993297758983\n"
          ],
          "name": "stdout"
        }
      ]
    },
    {
      "cell_type": "markdown",
      "metadata": {
        "id": "pEI_QbgAYE4A",
        "colab_type": "text"
      },
      "source": [
        "Print out for TMIN: \n",
        "\n",
        "Baseline Root Mean Square Error: 4.25 degrees C.\n",
        "Root Mean Square Error: 3.1 degrees C.\n",
        "Model slope:     -0.00885765197046887\n",
        "Model intercept: -3.5722993297758983"
      ]
    },
    {
      "cell_type": "code",
      "metadata": {
        "id": "zyas5ZSoVSnu",
        "colab_type": "code",
        "outputId": "790c0305-34bd-41d0-eb54-6b3cba913ec3",
        "colab": {
          "base_uri": "https://localhost:8080/",
          "height": 285
        }
      },
      "source": [
        "#TMIN\n",
        "# Make a plot of obs for the test period(dots)  and model predict for the test period  (line)\n",
        "plt.scatter(testing_dates, testing_verification, c='green')\n",
        "plt.plot(testing_dates, Predict, c='black')"
      ],
      "execution_count": 0,
      "outputs": [
        {
          "output_type": "execute_result",
          "data": {
            "text/plain": [
              "[<matplotlib.lines.Line2D at 0x7f5500cba908>]"
            ]
          },
          "metadata": {
            "tags": []
          },
          "execution_count": 36
        },
        {
          "output_type": "display_data",
          "data": {
            "image/png": "[encoded data removed]",
            "text/plain": [
              "<Figure size 432x288 with 1 Axes>"
            ]
          },
          "metadata": {
            "tags": []
          }
        }
      ]
    },
    {
      "cell_type": "markdown",
      "metadata": {
        "id": "WpkSfNd6Yt9a",
        "colab_type": "text"
      },
      "source": [
        "Linear Regression for Max Wind Speed"
      ]
    },
    {
      "cell_type": "code",
      "metadata": {
        "id": "Ey55FyAKV0vf",
        "colab_type": "code",
        "colab": {}
      },
      "source": [
        "\n",
        "# The following will overrite the above regressions\n",
        "testing_dates = np.array(New_condensed_date_file.query('year == 2019')['Date'])\n",
        "training_verification = np.array(Merge_File.query('year < 2019')['Max Wind Speed (m/s)'])\n",
        "testing_verification = np.array(Merge_File.query('year == 2019')['Max Wind Speed (m/s)'])\n"
      ],
      "execution_count": 0,
      "outputs": []
    },
    {
      "cell_type": "code",
      "metadata": {
        "id": "9aRvJQHEgFr3",
        "colab_type": "code",
        "outputId": "cb2701d9-27d4-4f35-814b-638e6b04981e",
        "colab": {
          "base_uri": "https://localhost:8080/",
          "height": 34
        }
      },
      "source": [
        "lrwind = LinearRegression(fit_intercept=True)\n",
        "\n",
        "column_names = ['WMAX','wspd'] # Choose the columns \n",
        "train_vars = Condense_file.query('year < 2019')[column_names] #  training\n",
        "test_vars = Condense_file.query('year == 2019')[column_names] #  testing\n",
        "\n",
        "\n",
        "lrwind.fit(train_vars, training_verification) # Fit the model"
      ],
      "execution_count": 0,
      "outputs": [
        {
          "output_type": "execute_result",
          "data": {
            "text/plain": [
              "LinearRegression(copy_X=True, fit_intercept=True, n_jobs=None, normalize=False)"
            ]
          },
          "metadata": {
            "tags": []
          },
          "execution_count": 41
        }
      ]
    },
    {
      "cell_type": "code",
      "metadata": {
        "id": "aemjrQj3jUzG",
        "colab_type": "code",
        "outputId": "52161b99-49ac-4490-a366-415f5334ed1c",
        "colab": {
          "base_uri": "https://localhost:8080/",
          "height": 85
        }
      },
      "source": [
        "Predict=lrwind.predict(test_vars) \n",
        "\n",
        "#print the root mean square error, model slope, and model intercept\n",
        "#checks the GFS forecast as base prediction\n",
        "print('Baseline Root Mean Square Error:', round(sqrt(mean_squared_error(testing_verification, Condense_file.query('year == 2019')['WMAX'].values)), 2), 'm/s.')\n",
        "print('Root Mean Square Error:', round(sqrt(mean_squared_error(testing_verification, Predict)), 2), 'm/s.')\n",
        "print(\"Model slope:    \", lrwind.coef_[0])\n",
        "print(\"Model intercept:\", lrwind.intercept_)"
      ],
      "execution_count": 0,
      "outputs": [
        {
          "output_type": "stream",
          "text": [
            "Baseline Root Mean Square Error: 3.34 m/s.\n",
            "Root Mean Square Error: 2.62 m/s.\n",
            "Model slope:     0.47394511541951384\n",
            "Model intercept: 3.075835480614166\n"
          ],
          "name": "stdout"
        }
      ]
    },
    {
      "cell_type": "markdown",
      "metadata": {
        "id": "H1j9qJuTY5ZV",
        "colab_type": "text"
      },
      "source": [
        "Print out for Max Wind Speed:\n",
        "\n",
        "Baseline Root Mean Square Error: 3.34 m/s.\n",
        "Root Mean Square Error: 2.62 m/s.\n",
        "Model slope:     0.47394511541951384\n",
        "Model intercept: 3.075835480614166"
      ]
    },
    {
      "cell_type": "code",
      "metadata": {
        "id": "vUxb2vbPjYTW",
        "colab_type": "code",
        "outputId": "940909b7-6820-4f9f-dda5-abb5bc73db10",
        "colab": {
          "base_uri": "https://localhost:8080/",
          "height": 285
        }
      },
      "source": [
        "#Max wind speed\n",
        "# Make a plot of obs for the test period(dots)  and model predict for the test period  (line)\n",
        "plt.scatter(testing_dates, testing_verification, c='green')\n",
        "plt.plot(testing_dates, Predict, c='black')"
      ],
      "execution_count": 0,
      "outputs": [
        {
          "output_type": "execute_result",
          "data": {
            "text/plain": [
              "[<matplotlib.lines.Line2D at 0x7f5500c34d68>]"
            ]
          },
          "metadata": {
            "tags": []
          },
          "execution_count": 45
        },
        {
          "output_type": "display_data",
          "data": {
            "image/png": "[encoded data removed]",
            "text/plain": [
              "<Figure size 432x288 with 1 Axes>"
            ]
          },
          "metadata": {
            "tags": []
          }
        }
      ]
    },
    {
      "cell_type": "markdown",
      "metadata": {
        "id": "yUbVCLxnaOHy",
        "colab_type": "text"
      },
      "source": [
        "Linear Regression of total precip"
      ]
    },
    {
      "cell_type": "code",
      "metadata": {
        "id": "dMrZwqipjv2r",
        "colab_type": "code",
        "colab": {}
      },
      "source": [
        "#Linear regression total precip\n",
        "# The following will overrite the above regressions\n",
        "testing_dates = np.array(New_condensed_date_file.query('year == 2019')['Date'])\n",
        "training_verification = np.array(Merge_File.query('year < 2019')['Daily Precip (mm)'])\n",
        "testing_verification = np.array(Merge_File.query('year == 2019')['Daily Precip (mm)'])\n",
        "#testing_verification"
      ],
      "execution_count": 0,
      "outputs": []
    },
    {
      "cell_type": "code",
      "metadata": {
        "id": "NvS1yUsGmHso",
        "colab_type": "code",
        "outputId": "ae6f7efd-58f6-44e7-d22a-8af2c32e610f",
        "colab": {
          "base_uri": "https://localhost:8080/",
          "height": 34
        }
      },
      "source": [
        "lrprecip = LinearRegression(fit_intercept=True)\n",
        "\n",
        "column_names = ['RTOT','dwpc','mslp','skct'] # Choose the columns we want to use in the regression!!!\n",
        "train_vars = Condense_file.query('year < 2019')[column_names] # Get the columns for training\n",
        "test_vars = Condense_file.query('year == 2019')[column_names] # Get the columns for testing\n",
        "\n",
        "\n",
        "lrprecip.fit(train_vars, training_verification) # Fit the model"
      ],
      "execution_count": 0,
      "outputs": [
        {
          "output_type": "execute_result",
          "data": {
            "text/plain": [
              "LinearRegression(copy_X=True, fit_intercept=True, n_jobs=None, normalize=False)"
            ]
          },
          "metadata": {
            "tags": []
          },
          "execution_count": 48
        }
      ]
    },
    {
      "cell_type": "code",
      "metadata": {
        "id": "ukBR5ZyTmQ07",
        "colab_type": "code",
        "outputId": "b9544ba8-68f1-4bda-f8b9-f9c286460046",
        "colab": {
          "base_uri": "https://localhost:8080/",
          "height": 85
        }
      },
      "source": [
        "Predict=lrprecip.predict(test_vars) \n",
        "\n",
        "#print the root mean square error, model slope, and model intercept\n",
        "#checks the GFS forecast as base prediction\n",
        "print('Baseline Root Mean Square Error:', round(sqrt(mean_squared_error(testing_verification, Condense_file.query('year == 2019')['RTOT'].values)), 2), 'mm.')\n",
        "print('Root Mean Square Error:', round(sqrt(mean_squared_error(testing_verification, Predict)), 2), 'mm.')\n",
        "print(\"Model slope:    \", lrprecip.coef_[0])\n",
        "print(\"Model intercept:\", lrprecip.intercept_)"
      ],
      "execution_count": 0,
      "outputs": [
        {
          "output_type": "stream",
          "text": [
            "Baseline Root Mean Square Error: 8.58 mm.\n",
            "Root Mean Square Error: 4.88 mm.\n",
            "Model slope:     0.060139244605312586\n",
            "Model intercept: -5.209994095045092\n"
          ],
          "name": "stdout"
        }
      ]
    },
    {
      "cell_type": "markdown",
      "metadata": {
        "id": "leNzQlqYatXO",
        "colab_type": "text"
      },
      "source": [
        "Print out for Precip:\n",
        "\n",
        "Baseline Root Mean Square Error: 8.58 mm.\n",
        "Root Mean Square Error: 4.88 mm.\n",
        "Model slope:     0.060139244605312586\n",
        "Model intercept: -5.209994095045092"
      ]
    },
    {
      "cell_type": "code",
      "metadata": {
        "colab_type": "code",
        "outputId": "b9aedbd3-7327-4b0f-da3f-3219157e3329",
        "id": "tOkIg8gPnc9x",
        "colab": {
          "base_uri": "https://localhost:8080/",
          "height": 285
        }
      },
      "source": [
        "#Precip\n",
        "plt.scatter(testing_dates, testing_verification, c='green')\n",
        "plt.plot(testing_dates, Predict, c='black')"
      ],
      "execution_count": 0,
      "outputs": [
        {
          "output_type": "execute_result",
          "data": {
            "text/plain": [
              "[<matplotlib.lines.Line2D at 0x7f54fde58470>]"
            ]
          },
          "metadata": {
            "tags": []
          },
          "execution_count": 50
        },
        {
          "output_type": "display_data",
          "data": {
            "image/png": "[encoded data removed]",
            "text/plain": [
              "<Figure size 432x288 with 1 Axes>"
            ]
          },
          "metadata": {
            "tags": []
          }
        }
      ]
    }
  ]
}